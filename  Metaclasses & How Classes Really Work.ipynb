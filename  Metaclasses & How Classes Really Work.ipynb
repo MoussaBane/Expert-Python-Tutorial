{
 "cells": [
  {
   "cell_type": "markdown",
   "metadata": {},
   "source": [
    "# Expert Python Tutorial #3  Metaclasses & How Classes Really Work"
   ]
  },
  {
   "cell_type": "code",
   "execution_count": 1,
   "metadata": {
    "scrolled": true
   },
   "outputs": [
    {
     "ename": "NameError",
     "evalue": "name 'Hi' is not defined",
     "output_type": "error",
     "traceback": [
      "\u001b[1;31m---------------------------------------------------------------------------\u001b[0m",
      "\u001b[1;31mNameError\u001b[0m                                 Traceback (most recent call last)",
      "\u001b[1;32m<ipython-input-1-5908372d3e14>\u001b[0m in \u001b[0;36m<module>\u001b[1;34m\u001b[0m\n\u001b[0;32m      4\u001b[0m     \u001b[1;32mreturn\u001b[0m \u001b[0mHi\u001b[0m\u001b[1;33m\u001b[0m\u001b[1;33m\u001b[0m\u001b[0m\n\u001b[0;32m      5\u001b[0m \u001b[1;33m\u001b[0m\u001b[0m\n\u001b[1;32m----> 6\u001b[1;33m \u001b[0mHi\u001b[0m\u001b[1;33m(\u001b[0m\u001b[1;33m)\u001b[0m  \u001b[1;31m#\u001b[0m\u001b[1;33m\u001b[0m\u001b[1;33m\u001b[0m\u001b[0m\n\u001b[0m\u001b[0;32m      7\u001b[0m \u001b[1;33m\u001b[0m\u001b[0m\n",
      "\u001b[1;31mNameError\u001b[0m: name 'Hi' is not defined"
     ]
    }
   ],
   "source": [
    "def hello():\n",
    "    class Hi: #In Python, Classes are actually objects.\n",
    "        pass\n",
    "    return Hi\n",
    "\n",
    "Hi()  #Hi class isn't global class. So it will show us an Error.\n",
    "\n"
   ]
  },
  {
   "cell_type": "code",
   "execution_count": 15,
   "metadata": {},
   "outputs": [
    {
     "name": "stdout",
     "output_type": "stream",
     "text": [
      "<class 'function'>\n",
      "<class '__main__.Test'>\n",
      "<__main__.Test object at 0x0000022C2E8ED700>\n",
      "<class 'type'>\n"
     ]
    }
   ],
   "source": [
    "class Test:\n",
    "    pass\n",
    "\n",
    "def func():\n",
    "    pass\n",
    "\n",
    "print(type(func)) #So simple class of func is function :)\n",
    "print(Test)  \n",
    "print(Test())    #this show where is the Test class location in RAM.  RAM(Random Access Memory). \n",
    "print(type(Test))  #Classes type is type. :) I know it's ridiculous.\n",
    "                #This type is defines the rules and creates this class for us. We will call type constructor."
   ]
  },
  {
   "cell_type": "code",
   "execution_count": 5,
   "metadata": {},
   "outputs": [],
   "source": [
    "#So we can create class without typing Class.\n",
    "Test = type(\"Test\", (), {})         \n",
    "class Test:             #This two classes absolutely same things. There is nothing different about them.\n",
    "    pass\n"
   ]
  },
  {
   "cell_type": "code",
   "execution_count": 11,
   "metadata": {},
   "outputs": [
    {
     "name": "stdout",
     "output_type": "stream",
     "text": [
      "5\n",
      "hello\n"
     ]
    }
   ],
   "source": [
    "Test = type(\"Test\", (), {\"x\":5})  # type(\"Name\" , (basis/inherit) , {Attribute})\n",
    "\n",
    "t = Test()\n",
    "print(t.x)   #It will show what's \"x\" attribute in Test class.\n",
    "\n",
    "t.wy = \"hello\"   #we can assign any attribute to t object.\n",
    "print(t.wy)"
   ]
  },
  {
   "cell_type": "code",
   "execution_count": 1,
   "metadata": {},
   "outputs": [
    {
     "name": "stdout",
     "output_type": "stream",
     "text": [
      "Hi\n"
     ]
    }
   ],
   "source": [
    "class Foo:\n",
    "    def show(self):\n",
    "        print(\"Hi\")\n",
    "\n",
    "Test2 = type(\"Test\", (Foo,), {\"y\":10})  # in the basis there is comma after the \"Foo\", because it have to be tuple.\n",
    "t2 = Test2()\n",
    "t2.show() #We inherited show function from Foo class. After the inheritation everything pass from Foo to Test2 class."
   ]
  },
  {
   "cell_type": "code",
   "execution_count": 3,
   "metadata": {},
   "outputs": [
    {
     "name": "stdout",
     "output_type": "stream",
     "text": [
      "9\n"
     ]
    }
   ],
   "source": [
    "def add_attribute(self):  #with this function we can add attribute 'z' as value \"9\".  \n",
    "    self.z = 9\n",
    "    \n",
    "Test3 = type(\"Test\", (Foo,), {\"y\":10, \"add_attribute\" : add_attribute})  #\n",
    "t3 = Test3()\n",
    "t3.add_attribute() #Now in t3 we have 'z' attribute as \"9\"\n",
    "print(t3.z)"
   ]
  },
  {
   "cell_type": "code",
   "execution_count": 5,
   "metadata": {},
   "outputs": [
    {
     "name": "stdout",
     "output_type": "stream",
     "text": [
      "{'__module__': '__main__', '__qualname__': 'Dog', 'x': 5, 'y': 8, 'hello': <function Dog.hello at 0x0000027B66E6F790>}\n",
      "{'__module__': '__main__', '__qualname__': 'Dog', 'X': 5, 'Y': 8, 'HELLO': <function Dog.hello at 0x0000027B66E6F790>}\n"
     ]
    }
   ],
   "source": [
    "class Meta(type): #type isn't necessary but we inherit from type to create metaclass. Because type does have lots of things.\n",
    "    def __new__(self, class_name, bases, attrs):  #we defined new func as dunder/magic method. \n",
    "        print(attrs)      #Actually in the class our first method is 'new'. After the \"new\" method, the \"init\" came. \n",
    "              #We just wanted to change our attributes, functions name to upper name.\n",
    "        a = {}       #This blank list will represent our new attributes.\n",
    "        for name, val in attrs.items():\n",
    "            if name.startswith(\"__\"): #with this if block, we won't change proper values.\n",
    "                a[name] = val\n",
    "            else:                 #Otherwise we will change attribute name to uppercase name. \n",
    "                a[name.upper()] = val\n",
    "        print(a)        #We will print what change  after the for loop.\n",
    "        return type(class_name, bases, a)\n",
    "                \n",
    "class Dog(metaclass = Meta):     #Even we didn't call or print anything,but it still working.\n",
    "                                                # because default metaclass of 'Dog' is type \n",
    "    x = 5\n",
    "    y = 8\n",
    "    \n",
    "    def hello(self):\n",
    "        print(\"Hi\")\n"
   ]
  },
  {
   "cell_type": "code",
   "execution_count": 8,
   "metadata": {},
   "outputs": [
    {
     "name": "stdout",
     "output_type": "stream",
     "text": [
      "5\n"
     ]
    }
   ],
   "source": [
    "d = Dog()\n",
    "#print(d.x) # This won't run, because we change in Metaclass attribute name. We have to use uppercase 'x'.\n",
    "print(d.X)"
   ]
  },
  {
   "cell_type": "code",
   "execution_count": 9,
   "metadata": {},
   "outputs": [
    {
     "name": "stdout",
     "output_type": "stream",
     "text": [
      "Hi\n",
      "None\n"
     ]
    }
   ],
   "source": [
    "#print(d.hello()) #it will same goes in hello function without uppercase :)\n",
    "print(d.HELLO())"
   ]
  }
 ],
 "metadata": {
  "kernelspec": {
   "display_name": "Python 3",
   "language": "python",
   "name": "python3"
  },
  "language_info": {
   "codemirror_mode": {
    "name": "ipython",
    "version": 3
   },
   "file_extension": ".py",
   "mimetype": "text/x-python",
   "name": "python",
   "nbconvert_exporter": "python",
   "pygments_lexer": "ipython3",
   "version": "3.8.3"
  }
 },
 "nbformat": 4,
 "nbformat_minor": 4
}
